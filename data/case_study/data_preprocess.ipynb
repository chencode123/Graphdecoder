{
 "cells": [
  {
   "cell_type": "code",
   "execution_count": 19,
   "metadata": {},
   "outputs": [],
   "source": [
    "import pandas as pd\n",
    "import networkx as nx\n",
    "import matplotlib.pyplot as plt\n",
    "import dgl\n",
    "\n",
    "node1 = pd.read_csv('node1.csv')\n",
    "node2 = pd.read_csv('node2.csv')\n",
    "node3 = pd.read_csv('node3.csv')\n",
    "import torch\n",
    "device = torch.device('cuda' if torch.cuda.is_available() else 'cpu')"
   ]
  },
  {
   "cell_type": "code",
   "execution_count": null,
   "metadata": {},
   "outputs": [],
   "source": [
    "def generate_words(row):\n",
    "    fields = [\n",
    "        'state', #\n",
    "        'vapor_cloud_formation',#\n",
    "        'combustible',#\n",
    "        'confinement',#\n",
    "        'mechanical_failure',#\n",
    "        'release',#\n",
    "        'overflow',#\n",
    "        'vaporization',#\n",
    "        'temperature',#\n",
    "        'pressure',#\n",
    "        'ignition',#\n",
    "        'pre_mixture',\n",
    "        'toxicity_of_sub',\n",
    "        'dispersion'\n",
    "    ]\n",
    "    words = [f\"{field} {row[field]}\" for field in fields]\n",
    "    return words\n",
    "\n",
    "node1_word = node1.apply(generate_words, axis=1)\n",
    "node2_word = node2.apply(generate_words, axis=1)\n",
    "node3_word = node3.apply(generate_words, axis=1)"
   ]
  },
  {
   "cell_type": "code",
   "execution_count": null,
   "metadata": {},
   "outputs": [
    {
     "data": {
      "application/vnd.microsoft.datawrangler.viewer.v0+json": {
       "columns": [
        {
         "name": "index",
         "rawType": "int64",
         "type": "integer"
        },
        {
         "name": "state",
         "rawType": "object",
         "type": "string"
        },
        {
         "name": "vapor_cloud_formation",
         "rawType": "object",
         "type": "string"
        },
        {
         "name": "combustible",
         "rawType": "object",
         "type": "string"
        },
        {
         "name": "confinement",
         "rawType": "object",
         "type": "string"
        },
        {
         "name": "mechanical_failure",
         "rawType": "object",
         "type": "string"
        },
        {
         "name": "release",
         "rawType": "object",
         "type": "string"
        },
        {
         "name": "overflow",
         "rawType": "object",
         "type": "string"
        },
        {
         "name": "vaporization",
         "rawType": "object",
         "type": "string"
        },
        {
         "name": "temperature",
         "rawType": "object",
         "type": "string"
        },
        {
         "name": "pressure",
         "rawType": "object",
         "type": "string"
        },
        {
         "name": "ignition",
         "rawType": "object",
         "type": "string"
        },
        {
         "name": "pre_mixture",
         "rawType": "object",
         "type": "string"
        },
        {
         "name": "toxicity_of_sub",
         "rawType": "object",
         "type": "string"
        },
        {
         "name": "dispersion",
         "rawType": "object",
         "type": "string"
        }
       ],
       "ref": "ac6dc7cd-006f-43f6-b10a-778cadf18840",
       "rows": [
        [
         "0",
         "state liquid",
         "vapor_cloud_formation True",
         "combustible True",
         "confinement high",
         "mechanical_failure True",
         "release continuous",
         "overflow False",
         "vaporization high",
         "temperature high",
         "pressure low",
         "ignition delayed",
         "pre_mixture True",
         "toxicity_of_sub False",
         "dispersion True"
        ],
        [
         "1",
         "state liquid",
         "vapor_cloud_formation True",
         "combustible True",
         "confinement false",
         "mechanical_failure True",
         "release continuous",
         "overflow False",
         "vaporization high",
         "temperature low",
         "pressure high",
         "ignition instant",
         "pre_mixture True",
         "toxicity_of_sub False",
         "dispersion True"
        ]
       ],
       "shape": {
        "columns": 14,
        "rows": 2
       }
      },
      "text/html": [
       "<div>\n",
       "<style scoped>\n",
       "    .dataframe tbody tr th:only-of-type {\n",
       "        vertical-align: middle;\n",
       "    }\n",
       "\n",
       "    .dataframe tbody tr th {\n",
       "        vertical-align: top;\n",
       "    }\n",
       "\n",
       "    .dataframe thead th {\n",
       "        text-align: right;\n",
       "    }\n",
       "</style>\n",
       "<table border=\"1\" class=\"dataframe\">\n",
       "  <thead>\n",
       "    <tr style=\"text-align: right;\">\n",
       "      <th></th>\n",
       "      <th>state</th>\n",
       "      <th>vapor_cloud_formation</th>\n",
       "      <th>combustible</th>\n",
       "      <th>confinement</th>\n",
       "      <th>mechanical_failure</th>\n",
       "      <th>release</th>\n",
       "      <th>overflow</th>\n",
       "      <th>vaporization</th>\n",
       "      <th>temperature</th>\n",
       "      <th>pressure</th>\n",
       "      <th>ignition</th>\n",
       "      <th>pre_mixture</th>\n",
       "      <th>toxicity_of_sub</th>\n",
       "      <th>dispersion</th>\n",
       "    </tr>\n",
       "  </thead>\n",
       "  <tbody>\n",
       "    <tr>\n",
       "      <th>0</th>\n",
       "      <td>state liquid</td>\n",
       "      <td>vapor_cloud_formation True</td>\n",
       "      <td>combustible True</td>\n",
       "      <td>confinement high</td>\n",
       "      <td>mechanical_failure True</td>\n",
       "      <td>release continuous</td>\n",
       "      <td>overflow False</td>\n",
       "      <td>vaporization high</td>\n",
       "      <td>temperature high</td>\n",
       "      <td>pressure low</td>\n",
       "      <td>ignition delayed</td>\n",
       "      <td>pre_mixture True</td>\n",
       "      <td>toxicity_of_sub False</td>\n",
       "      <td>dispersion True</td>\n",
       "    </tr>\n",
       "    <tr>\n",
       "      <th>1</th>\n",
       "      <td>state liquid</td>\n",
       "      <td>vapor_cloud_formation True</td>\n",
       "      <td>combustible True</td>\n",
       "      <td>confinement false</td>\n",
       "      <td>mechanical_failure True</td>\n",
       "      <td>release continuous</td>\n",
       "      <td>overflow False</td>\n",
       "      <td>vaporization high</td>\n",
       "      <td>temperature low</td>\n",
       "      <td>pressure high</td>\n",
       "      <td>ignition instant</td>\n",
       "      <td>pre_mixture True</td>\n",
       "      <td>toxicity_of_sub False</td>\n",
       "      <td>dispersion True</td>\n",
       "    </tr>\n",
       "  </tbody>\n",
       "</table>\n",
       "</div>"
      ],
      "text/plain": [
       "          state       vapor_cloud_formation       combustible  \\\n",
       "0  state liquid  vapor_cloud_formation True  combustible True   \n",
       "1  state liquid  vapor_cloud_formation True  combustible True   \n",
       "\n",
       "         confinement       mechanical_failure             release  \\\n",
       "0   confinement high  mechanical_failure True  release continuous   \n",
       "1  confinement false  mechanical_failure True  release continuous   \n",
       "\n",
       "         overflow       vaporization       temperature       pressure  \\\n",
       "0  overflow False  vaporization high  temperature high   pressure low   \n",
       "1  overflow False  vaporization high   temperature low  pressure high   \n",
       "\n",
       "           ignition       pre_mixture        toxicity_of_sub       dispersion  \n",
       "0  ignition delayed  pre_mixture True  toxicity_of_sub False  dispersion True  \n",
       "1  ignition instant  pre_mixture True  toxicity_of_sub False  dispersion True  "
      ]
     },
     "execution_count": 21,
     "metadata": {},
     "output_type": "execute_result"
    }
   ],
   "source": [
    "node1_word_df = pd.DataFrame(node1_word.tolist(), columns=[\n",
    "    'state',\n",
    "    'vapor_cloud_formation',\n",
    "    'combustible',\n",
    "    'confinement',\n",
    "    'mechanical_failure',\n",
    "    'release',\n",
    "    'overflow',\n",
    "    'vaporization',\n",
    "    'temperature',\n",
    "    'pressure',\n",
    "    'ignition',\n",
    "    'pre_mixture',\n",
    "    'toxicity_of_sub',\n",
    "    'dispersion'\n",
    "])\n",
    "node2_word_df = pd.DataFrame(node2_word.tolist(), columns=[\n",
    "    'state',\n",
    "    'vapor_cloud_formation',\n",
    "    'combustible',\n",
    "    'confinement',\n",
    "    'mechanical_failure',\n",
    "    'release',\n",
    "    'overflow',\n",
    "    'vaporization',\n",
    "    'temperature',\n",
    "    'pressure',\n",
    "    'ignition',\n",
    "    'pre_mixture',\n",
    "    'toxicity_of_sub',\n",
    "    'dispersion'\n",
    "])\n",
    "\n",
    "node3_word_df = pd.DataFrame(node3_word.tolist(), columns=[\n",
    "    'state',\n",
    "    'vapor_cloud_formation',\n",
    "    'combustible',\n",
    "    'confinement',\n",
    "    'mechanical_failure',\n",
    "    'release',\n",
    "    'overflow',\n",
    "    'vaporization',\n",
    "    'temperature',\n",
    "    'pressure',\n",
    "    'ignition',\n",
    "    'pre_mixture',\n",
    "    'toxicity_of_sub',\n",
    "    'dispersion'\n",
    "])\n",
    "node2_word_df"
   ]
  },
  {
   "cell_type": "code",
   "execution_count": 22,
   "metadata": {},
   "outputs": [],
   "source": [
    "node1_word_df['combined_sentence'] = node1_word_df.apply(lambda row: ','.join(row.astype(str)), axis=1)\n",
    "node2_word_df['combined_sentence'] = node2_word_df.apply(lambda row: ','.join(row.astype(str)), axis=1)\n",
    "node3_word_df['combined_sentence'] = node3_word_df.apply(lambda row: ','.join(row.astype(str)), axis=1)"
   ]
  },
  {
   "cell_type": "code",
   "execution_count": 23,
   "metadata": {},
   "outputs": [],
   "source": [
    "node2_word_df['label'] = None\n",
    "node2_word_df['scenario'] = None\n",
    "node2_word_df['label'] = node2['label']"
   ]
  },
  {
   "cell_type": "code",
   "execution_count": null,
   "metadata": {},
   "outputs": [
    {
     "data": {
      "application/vnd.microsoft.datawrangler.viewer.v0+json": {
       "columns": [
        {
         "name": "index",
         "rawType": "int64",
         "type": "integer"
        },
        {
         "name": "state",
         "rawType": "object",
         "type": "string"
        },
        {
         "name": "vapor_cloud_formation",
         "rawType": "object",
         "type": "string"
        },
        {
         "name": "combustible",
         "rawType": "object",
         "type": "string"
        },
        {
         "name": "confinement",
         "rawType": "object",
         "type": "string"
        },
        {
         "name": "mechanical_failure",
         "rawType": "object",
         "type": "string"
        },
        {
         "name": "release",
         "rawType": "object",
         "type": "string"
        },
        {
         "name": "overflow",
         "rawType": "object",
         "type": "string"
        },
        {
         "name": "vaporization",
         "rawType": "object",
         "type": "string"
        },
        {
         "name": "temperature",
         "rawType": "object",
         "type": "string"
        },
        {
         "name": "pressure",
         "rawType": "object",
         "type": "string"
        },
        {
         "name": "ignition",
         "rawType": "object",
         "type": "string"
        },
        {
         "name": "pre_mixture",
         "rawType": "object",
         "type": "string"
        },
        {
         "name": "toxicity_of_sub",
         "rawType": "object",
         "type": "string"
        },
        {
         "name": "dispersion",
         "rawType": "object",
         "type": "string"
        },
        {
         "name": "combined_sentence",
         "rawType": "object",
         "type": "string"
        },
        {
         "name": "label",
         "rawType": "object",
         "type": "string"
        },
        {
         "name": "scenario",
         "rawType": "object",
         "type": "string"
        }
       ],
       "ref": "60af743c-ae24-48cc-bcf7-e9a3b9cb17e0",
       "rows": [
        [
         "0",
         "state liquid",
         "vapor_cloud_formation True",
         "combustible True",
         "confinement high",
         "mechanical_failure True",
         "release continuous",
         "overflow False",
         "vaporization high",
         "temperature high",
         "pressure low",
         "ignition delayed",
         "pre_mixture True",
         "toxicity_of_sub False",
         "dispersion True",
         "state liquid,vapor_cloud_formation True,combustible True,confinement high,mechanical_failure True,release continuous,overflow False,vaporization high,temperature high,pressure low,ignition delayed,pre_mixture True,toxicity_of_sub False,dispersion True",
         "VCE_liquid_continuous",
         "High vaporization causes Vapor cloud formation <newline> Pre-mixture causes Vapor cloud formation <newline> Liquid causes High vaporization <newline> Continuous release causes Vapor cloud formation <newline> Vapor cloud formation causes VCE <newline> Mechanical Failure causes Continuous release <newline> Chemical combustible causes Delayed Ignition <newline> High confinement causes VCE <newline> Delayed Ignition causes VCE"
        ],
        [
         "1",
         "state liquid",
         "vapor_cloud_formation True",
         "combustible True",
         "confinement false",
         "mechanical_failure True",
         "release continuous",
         "overflow False",
         "vaporization high",
         "temperature low",
         "pressure high",
         "ignition instant",
         "pre_mixture True",
         "toxicity_of_sub False",
         "dispersion True",
         "state liquid,vapor_cloud_formation True,combustible True,confinement false,mechanical_failure True,release continuous,overflow False,vaporization high,temperature low,pressure high,ignition instant,pre_mixture True,toxicity_of_sub False,dispersion True",
         "Normal",
         "Normal causes Normal"
        ]
       ],
       "shape": {
        "columns": 17,
        "rows": 2
       }
      },
      "text/html": [
       "<div>\n",
       "<style scoped>\n",
       "    .dataframe tbody tr th:only-of-type {\n",
       "        vertical-align: middle;\n",
       "    }\n",
       "\n",
       "    .dataframe tbody tr th {\n",
       "        vertical-align: top;\n",
       "    }\n",
       "\n",
       "    .dataframe thead th {\n",
       "        text-align: right;\n",
       "    }\n",
       "</style>\n",
       "<table border=\"1\" class=\"dataframe\">\n",
       "  <thead>\n",
       "    <tr style=\"text-align: right;\">\n",
       "      <th></th>\n",
       "      <th>state</th>\n",
       "      <th>vapor_cloud_formation</th>\n",
       "      <th>combustible</th>\n",
       "      <th>confinement</th>\n",
       "      <th>mechanical_failure</th>\n",
       "      <th>release</th>\n",
       "      <th>overflow</th>\n",
       "      <th>vaporization</th>\n",
       "      <th>temperature</th>\n",
       "      <th>pressure</th>\n",
       "      <th>ignition</th>\n",
       "      <th>pre_mixture</th>\n",
       "      <th>toxicity_of_sub</th>\n",
       "      <th>dispersion</th>\n",
       "      <th>combined_sentence</th>\n",
       "      <th>label</th>\n",
       "      <th>scenario</th>\n",
       "    </tr>\n",
       "  </thead>\n",
       "  <tbody>\n",
       "    <tr>\n",
       "      <th>0</th>\n",
       "      <td>state liquid</td>\n",
       "      <td>vapor_cloud_formation True</td>\n",
       "      <td>combustible True</td>\n",
       "      <td>confinement high</td>\n",
       "      <td>mechanical_failure True</td>\n",
       "      <td>release continuous</td>\n",
       "      <td>overflow False</td>\n",
       "      <td>vaporization high</td>\n",
       "      <td>temperature high</td>\n",
       "      <td>pressure low</td>\n",
       "      <td>ignition delayed</td>\n",
       "      <td>pre_mixture True</td>\n",
       "      <td>toxicity_of_sub False</td>\n",
       "      <td>dispersion True</td>\n",
       "      <td>state liquid,vapor_cloud_formation True,combus...</td>\n",
       "      <td>VCE_liquid_continuous</td>\n",
       "      <td>High vaporization causes Vapor cloud formation...</td>\n",
       "    </tr>\n",
       "    <tr>\n",
       "      <th>1</th>\n",
       "      <td>state liquid</td>\n",
       "      <td>vapor_cloud_formation True</td>\n",
       "      <td>combustible True</td>\n",
       "      <td>confinement false</td>\n",
       "      <td>mechanical_failure True</td>\n",
       "      <td>release continuous</td>\n",
       "      <td>overflow False</td>\n",
       "      <td>vaporization high</td>\n",
       "      <td>temperature low</td>\n",
       "      <td>pressure high</td>\n",
       "      <td>ignition instant</td>\n",
       "      <td>pre_mixture True</td>\n",
       "      <td>toxicity_of_sub False</td>\n",
       "      <td>dispersion True</td>\n",
       "      <td>state liquid,vapor_cloud_formation True,combus...</td>\n",
       "      <td>Normal</td>\n",
       "      <td>Normal causes Normal</td>\n",
       "    </tr>\n",
       "  </tbody>\n",
       "</table>\n",
       "</div>"
      ],
      "text/plain": [
       "          state       vapor_cloud_formation       combustible  \\\n",
       "0  state liquid  vapor_cloud_formation True  combustible True   \n",
       "1  state liquid  vapor_cloud_formation True  combustible True   \n",
       "\n",
       "         confinement       mechanical_failure             release  \\\n",
       "0   confinement high  mechanical_failure True  release continuous   \n",
       "1  confinement false  mechanical_failure True  release continuous   \n",
       "\n",
       "         overflow       vaporization       temperature       pressure  \\\n",
       "0  overflow False  vaporization high  temperature high   pressure low   \n",
       "1  overflow False  vaporization high   temperature low  pressure high   \n",
       "\n",
       "           ignition       pre_mixture        toxicity_of_sub       dispersion  \\\n",
       "0  ignition delayed  pre_mixture True  toxicity_of_sub False  dispersion True   \n",
       "1  ignition instant  pre_mixture True  toxicity_of_sub False  dispersion True   \n",
       "\n",
       "                                   combined_sentence                  label  \\\n",
       "0  state liquid,vapor_cloud_formation True,combus...  VCE_liquid_continuous   \n",
       "1  state liquid,vapor_cloud_formation True,combus...                 Normal   \n",
       "\n",
       "                                            scenario  \n",
       "0  High vaporization causes Vapor cloud formation...  \n",
       "1                               Normal causes Normal  "
      ]
     },
     "execution_count": 25,
     "metadata": {},
     "output_type": "execute_result"
    }
   ],
   "source": [
    "import json\n",
    "\n",
    "# load json file\n",
    "absolute_path = \"/home/chenyangtamu/graphdecoder/graphtoseq_3_nodes_no_equipment/data/dataset/graph_relations_labeled_structured.json\"\n",
    "\n",
    "with open(absolute_path, 'r') as file:\n",
    "    scenarios_data = json.load(file)  \n",
    "\n",
    "for i in range(len(node2_word_df)):\n",
    "    label = node2_word_df[\"label\"].iloc[i]  \n",
    "\n",
    "    for scenario in scenarios_data: \n",
    "        if label.lower() == scenario[\"Hazard\"].lower():\n",
    "            \n",
    "            pretty_text = \" <newline> \".join(scenario[\"Scenarios\"])\n",
    "            node2_word_df.at[i, \"scenario\"] = pretty_text\n",
    "            break\n",
    "\n",
    "node2_word_df\n"
   ]
  },
  {
   "cell_type": "code",
   "execution_count": 26,
   "metadata": {},
   "outputs": [],
   "source": [
    "node2_word_df.to_csv(\"node2_combined.csv\", index=False, encoding=\"utf-8\")"
   ]
  },
  {
   "cell_type": "code",
   "execution_count": 27,
   "metadata": {},
   "outputs": [
    {
     "name": "stdout",
     "output_type": "stream",
     "text": [
      "label\n",
      "VCE_liquid_continuous    1\n",
      "Normal                   1\n",
      "Name: count, dtype: int64\n"
     ]
    }
   ],
   "source": [
    "label_counts = node2_word_df[\"label\"].value_counts()\n",
    "print(label_counts)"
   ]
  },
  {
   "cell_type": "code",
   "execution_count": null,
   "metadata": {},
   "outputs": [],
   "source": [
    "from transformers import T5Tokenizer, T5EncoderModel\n",
    "import torch\n",
    "from tqdm import tqdm\n",
    "import pandas as pd\n",
    "\n",
    "tokenizer = T5Tokenizer.from_pretrained('t5-small')\n",
    "encoder = T5EncoderModel.from_pretrained('t5-small')\n",
    "encoder.eval()  \n",
    "\n",
    "def encode_series_to_embeddings(series_of_words, encoder, tokenizer, max_length=10, device=device):\n",
    "    input_ids_all = []\n",
    "    attention_masks_all = []\n",
    "\n",
    "    print(\"Tokenizing...\")\n",
    "\n",
    "    for word_list in tqdm(series_of_words):\n",
    "        encoding = tokenizer(\n",
    "            word_list,\n",
    "            padding='max_length',\n",
    "            truncation=True,\n",
    "            max_length=max_length,\n",
    "            return_tensors='pt'\n",
    "        )\n",
    "        input_ids_all.append(encoding['input_ids'])        # [12, max_length]\n",
    "        attention_masks_all.append(encoding['attention_mask'])\n",
    "\n",
    "    input_ids = torch.stack(input_ids_all).to(device)              # [1600, 12, max_length]\n",
    "    attention_mask = torch.stack(attention_masks_all).to(device)   # [1600, 12, max_length]\n",
    "\n",
    "    batch_size, num_nodes, seq_len = input_ids.shape\n",
    "\n",
    "    input_ids_flat = input_ids.view(-1, seq_len)             # [1600*12, max_length]\n",
    "    attention_mask_flat = attention_mask.view(-1, seq_len)\n",
    "\n",
    "    print(\"Encoding with T5...\")\n",
    "\n",
    "    with torch.no_grad():\n",
    "        encoder = encoder.to(device)\n",
    "        outputs = encoder(input_ids=input_ids_flat, attention_mask=attention_mask_flat)\n",
    "        last_hidden_state = outputs.last_hidden_state \n",
    "\n",
    "    node_embeddings = last_hidden_state[:, 0, :]  \n",
    "\n",
    "    node_embeddings = node_embeddings.view(batch_size, num_nodes, -1)\n",
    "\n",
    "    return node_embeddings  # shape: [1600, 12, 512]\n"
   ]
  },
  {
   "cell_type": "code",
   "execution_count": null,
   "metadata": {},
   "outputs": [],
   "source": [
    "import torch\n",
    "from transformers import T5Tokenizer, T5EncoderModel\n",
    "from tqdm import tqdm\n",
    "\n",
    "def encode_series_to_embeddings(series_of_words, encoder, tokenizer, max_length, batch_size, device=\"cuda\",):\n",
    "    encoder = encoder.to(device)\n",
    "    encoder.eval()\n",
    "\n",
    "    all_embeddings = []\n",
    "\n",
    "    print(\"Encoding in batches...\")\n",
    "\n",
    "    for i in tqdm(range(0, len(series_of_words), batch_size)):\n",
    "        batch_graphs = series_of_words[i : i + batch_size]  # There are N graphs in each batch with 15 nodes\n",
    "\n",
    "        input_ids_all = []\n",
    "        attention_masks_all = []\n",
    "\n",
    "        for word_list in batch_graphs:\n",
    "            encoding = tokenizer(\n",
    "                word_list,\n",
    "                padding='max_length',\n",
    "                truncation=True,\n",
    "                max_length=max_length,\n",
    "                return_tensors='pt'\n",
    "            )\n",
    "            input_ids_all.append(encoding['input_ids'])           # [15, max_length]\n",
    "            attention_masks_all.append(encoding['attention_mask'])\n",
    "\n",
    "        input_ids = torch.stack(input_ids_all).to(device)         # [B, 15, max_length]\n",
    "        attention_mask = torch.stack(attention_masks_all).to(device)\n",
    "\n",
    "        B, num_nodes, seq_len = input_ids.shape\n",
    "        input_ids_flat = input_ids.view(-1, seq_len)              # [B*15, max_length]\n",
    "        attention_mask_flat = attention_mask.view(-1, seq_len)\n",
    "\n",
    "        with torch.no_grad():\n",
    "            outputs = encoder(input_ids=input_ids_flat, attention_mask=attention_mask_flat)\n",
    "            last_hidden_state = outputs.last_hidden_state         # [B*15, max_length, 512]\n",
    "\n",
    "        node_embeddings = last_hidden_state[:, 0, :]              # [CLS] token → [B*15, 512]\n",
    "        node_embeddings = node_embeddings.view(B, num_nodes, -1)  # reshape to [B, 15, 512]\n",
    "\n",
    "        all_embeddings.append(node_embeddings.cpu())\n",
    "\n",
    "    return torch.cat(all_embeddings, dim=0)  # fianl shape [N, 15, 512]\n"
   ]
  },
  {
   "cell_type": "code",
   "execution_count": null,
   "metadata": {},
   "outputs": [
    {
     "name": "stdout",
     "output_type": "stream",
     "text": [
      "最大长度: 72\n"
     ]
    }
   ],
   "source": [
    "node2_word_df['combined_sentence'][0]\n",
    "token_lengths = [len(tokenizer.tokenize(text)) for text in node2_word_df['combined_sentence']]\n",
    "print(f\"最大长度: {max(token_lengths)}\")\n",
    "max_token_lengths = max(token_lengths)\n"
   ]
  },
  {
   "cell_type": "code",
   "execution_count": null,
   "metadata": {},
   "outputs": [],
   "source": [
    "node1_sentence = node1_word_df['combined_sentence'].tolist()  # List[str]\n",
    "node1_graph_texts = [[text] for text in node1_sentence]            # List[List[str]]\n",
    "node2_sentence = node2_word_df['combined_sentence'].tolist()  # List[str]\n",
    "node2_graph_texts = [[text] for text in node2_sentence]            # List[List[str]]\n",
    "node3_sentence = node3_word_df['combined_sentence'].tolist()  # List[str]\n",
    "node3_graph_texts = [[text] for text in node3_sentence]            # List[List[str]]"
   ]
  },
  {
   "cell_type": "code",
   "execution_count": null,
   "metadata": {},
   "outputs": [
    {
     "name": "stdout",
     "output_type": "stream",
     "text": [
      "Encoding in batches...\n"
     ]
    },
    {
     "name": "stderr",
     "output_type": "stream",
     "text": [
      "100%|██████████| 1/1 [00:00<00:00, 58.42it/s]\n"
     ]
    },
    {
     "name": "stdout",
     "output_type": "stream",
     "text": [
      "Encoding in batches...\n"
     ]
    },
    {
     "name": "stderr",
     "output_type": "stream",
     "text": [
      "100%|██████████| 1/1 [00:00<00:00, 99.93it/s]\n"
     ]
    },
    {
     "name": "stdout",
     "output_type": "stream",
     "text": [
      "Encoding in batches...\n"
     ]
    },
    {
     "name": "stderr",
     "output_type": "stream",
     "text": [
      "100%|██████████| 1/1 [00:00<00:00, 75.78it/s]"
     ]
    },
    {
     "name": "stdout",
     "output_type": "stream",
     "text": [
      "torch.Size([2, 1, 512])\n"
     ]
    },
    {
     "name": "stderr",
     "output_type": "stream",
     "text": [
      "\n"
     ]
    }
   ],
   "source": [
    "tokenizer = T5Tokenizer.from_pretrained('t5-small')\n",
    "encoder = T5EncoderModel.from_pretrained('t5-small')\n",
    "\n",
    "node1_embeddings = encode_series_to_embeddings(node1_graph_texts, encoder, tokenizer, max_length=max_token_lengths, device='cuda', batch_size=64)\n",
    "node2_embeddings = encode_series_to_embeddings(node2_graph_texts, encoder, tokenizer, max_length=max_token_lengths, device='cuda', batch_size=64)\n",
    "node3_embeddings = encode_series_to_embeddings(node3_graph_texts, encoder, tokenizer, max_length=max_token_lengths, device='cuda', batch_size=64)\n",
    "print(node2_embeddings.shape)  # should be [7600, 1, 512]\n"
   ]
  },
  {
   "cell_type": "code",
   "execution_count": 33,
   "metadata": {},
   "outputs": [
    {
     "name": "stdout",
     "output_type": "stream",
     "text": [
      "torch.Size([2, 3, 512])\n"
     ]
    }
   ],
   "source": [
    "combined = torch.cat([node1_embeddings, node2_embeddings, node3_embeddings], dim=1)\n",
    "print(combined.shape)  # [7600, 1+X, 512]"
   ]
  },
  {
   "cell_type": "code",
   "execution_count": 34,
   "metadata": {},
   "outputs": [],
   "source": [
    "import dgl\n",
    "import torch\n",
    "\n",
    "def create_dgl_graph_from_embedding(embeddings: torch.Tensor):\n",
    "    \"\"\"\n",
    "    Create a list of DGLGraphs from embeddings.\n",
    "    Each graph has chain edges: node 0 -> node 1 -> ... -> node (n-1)\n",
    "\n",
    "    The graphs will be created on the same device as embeddings.\n",
    "    \n",
    "    :param embeddings: Tensor of shape [batch_size, num_nodes, feature_dim]\n",
    "    :return: List of DGLGraphs\n",
    "    \"\"\"\n",
    "    batch_size, num_nodes, feature_dim = embeddings.shape\n",
    "    device = embeddings.device\n",
    "\n",
    "    graph_list = []\n",
    "\n",
    "    for i in range(batch_size):\n",
    "        g = dgl.DGLGraph().to(device)\n",
    "        g.add_nodes(num_nodes)\n",
    "\n",
    "        # Create chain edges: 0→1, 1→2, ..., (n-2)→(n-1)\n",
    "        src_nodes = torch.arange(0, num_nodes - 1, device=device)\n",
    "        dst_nodes = torch.arange(1, num_nodes, device=device)\n",
    "        g.add_edges(src_nodes, dst_nodes)\n",
    "\n",
    "        # Assign node features\n",
    "        g.ndata['h'] = embeddings[i]\n",
    "\n",
    "        graph_list.append(g)\n",
    "\n",
    "    return graph_list\n"
   ]
  },
  {
   "cell_type": "code",
   "execution_count": 35,
   "metadata": {},
   "outputs": [
    {
     "name": "stdout",
     "output_type": "stream",
     "text": [
      "Graph(num_nodes=3, num_edges=2,\n",
      "      ndata_schemes={'h': Scheme(shape=(512,), dtype=torch.float32)}\n",
      "      edata_schemes={})\n",
      "torch.Size([3, 512])\n"
     ]
    },
    {
     "name": "stderr",
     "output_type": "stream",
     "text": [
      "/home/chenyangtamu/miniconda3/envs/graphdecoder310/lib/python3.10/site-packages/dgl/heterograph.py:92: DGLWarning: Recommend creating graphs by `dgl.graph(data)` instead of `dgl.DGLGraph(data)`.\n",
      "  dgl_warning(\n"
     ]
    }
   ],
   "source": [
    "graph_list = create_dgl_graph_from_embedding(combined)\n",
    "\n",
    "print(graph_list[0])\n",
    "print(graph_list[0].ndata['h'].shape) \n",
    "dgl.save_graphs(\"graph_data.bin\", graph_list)\n"
   ]
  }
 ],
 "metadata": {
  "kernelspec": {
   "display_name": "graphdecoder310",
   "language": "python",
   "name": "python3"
  },
  "language_info": {
   "codemirror_mode": {
    "name": "ipython",
    "version": 3
   },
   "file_extension": ".py",
   "mimetype": "text/x-python",
   "name": "python",
   "nbconvert_exporter": "python",
   "pygments_lexer": "ipython3",
   "version": "3.10.16"
  }
 },
 "nbformat": 4,
 "nbformat_minor": 2
}
